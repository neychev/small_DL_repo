{
 "cells": [
  {
   "cell_type": "markdown",
   "metadata": {},
   "source": [
    "### Classification contest problem.\n",
    "Please, solve the classification problem with the provided data.\n",
    "Do not forget that you need to get maximum quality not only on the train data, but on test (hidden) data as well. Cross-validation should help you ;)\n",
    "\n",
    "If you solve first two steps correctly (they are mostly technical):\n",
    "* 73% accuracy on test set will deliver you partial score\n",
    "* 75.5% accuracy on test set will deliver you full score\n",
    "\n",
    "Good luck!"
   ]
  },
  {
   "cell_type": "code",
   "execution_count": null,
   "metadata": {},
   "outputs": [],
   "source": [
    "import json\n",
    "import numpy as np\n",
    "from sklearn.metrics import accuracy_score"
   ]
  },
  {
   "cell_type": "code",
   "execution_count": null,
   "metadata": {},
   "outputs": [],
   "source": [
    "!wget https://raw.githubusercontent.com/neychev/small_DL_repo/master/datasets/small_classification_dataset/final_X_test.txt\n",
    "!wget https://raw.githubusercontent.com/neychev/small_DL_repo/master/datasets/small_classification_dataset/final_X_train.txt\n",
    "!wget https://raw.githubusercontent.com/neychev/small_DL_repo/master/datasets/small_classification_dataset/final_y_train.txt"
   ]
  },
  {
   "cell_type": "code",
   "execution_count": null,
   "metadata": {},
   "outputs": [],
   "source": [
    "X_train = np.loadtxt('final_X_train.txt')\n",
    "X_test = np.loadtxt('final_X_test.txt')\n",
    "\n",
    "with open('final_y_train.txt', 'r') as iofile:\n",
    "    y_train = np.array(json.load(iofile))"
   ]
  },
  {
   "cell_type": "markdown",
   "metadata": {},
   "source": [
    "### Step 1: simple logistic regression\n",
    "Train the simple Logistic Regression classifier (from sklearn) with default hyperparameters."
   ]
  },
  {
   "cell_type": "code",
   "execution_count": null,
   "metadata": {},
   "outputs": [],
   "source": [
    "from my_solution import MySolutions"
   ]
  },
  {
   "cell_type": "code",
   "execution_count": null,
   "metadata": {},
   "outputs": [],
   "source": [
    "my_solutions = MySolutions(X_train, y_train, X_test)"
   ]
  },
  {
   "cell_type": "code",
   "execution_count": null,
   "metadata": {},
   "outputs": [],
   "source": [
    "labels_train, probas_train, labels_test, probas_test = my_solutions.get_simple_logistic_reg()"
   ]
  },
  {
   "cell_type": "code",
   "execution_count": null,
   "metadata": {},
   "outputs": [],
   "source": [
    "accuracy_score(labels_train, y_train)"
   ]
  },
  {
   "cell_type": "markdown",
   "metadata": {},
   "source": [
    "### Step 2: Naive Bayesian classifier with normal prior\n",
    "Train the Naive Bayes classifier with Normal distribution as a prior. Use sklearn version (correct one!) and default hyperparameters."
   ]
  },
  {
   "cell_type": "code",
   "execution_count": null,
   "metadata": {},
   "outputs": [],
   "source": [
    "labels_train, probas_train, labels_test, probas_test = my_solutions.get_simple_naive_bayes()"
   ]
  },
  {
   "cell_type": "code",
   "execution_count": null,
   "metadata": {},
   "outputs": [],
   "source": [
    "accuracy_score(labels_train, y_train)"
   ]
  },
  {
   "cell_type": "markdown",
   "metadata": {},
   "source": [
    "### Step 3. Get highscore!\n",
    "Build your best model."
   ]
  },
  {
   "cell_type": "code",
   "execution_count": null,
   "metadata": {},
   "outputs": [],
   "source": [
    "labels_train, probas_train, labels_test, probas_test = my_solutions.get_best_solution()"
   ]
  },
  {
   "cell_type": "code",
   "execution_count": null,
   "metadata": {},
   "outputs": [],
   "source": [
    "accuracy_score(labels_train, y_train)"
   ]
  },
  {
   "cell_type": "markdown",
   "metadata": {},
   "source": [
    "### Submitting your work\n",
    "To submit your work you need to log into Yandex contest and upload the `my_solution.py` file for the corresponding problem"
   ]
  }
 ],
 "metadata": {
  "kernelspec": {
   "display_name": "Py3 Research",
   "language": "python",
   "name": "py3_research_kernel"
  },
  "language_info": {
   "codemirror_mode": {
    "name": "ipython",
    "version": 3
   },
   "file_extension": ".py",
   "mimetype": "text/x-python",
   "name": "python",
   "nbconvert_exporter": "python",
   "pygments_lexer": "ipython3",
   "version": "3.9.7"
  }
 },
 "nbformat": 4,
 "nbformat_minor": 1
}
