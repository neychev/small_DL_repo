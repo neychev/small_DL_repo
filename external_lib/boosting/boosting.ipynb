{
 "cells": [
  {
   "cell_type": "markdown",
   "metadata": {},
   "source": [
    "# <center> Бустинг </center>"
   ]
  },
  {
   "cell_type": "markdown",
   "metadata": {},
   "source": [
    "### План\n",
    "\n",
    "1. #### Теория\n",
    "    - пример для иллюстрации принципа работы бустинга\n",
    "    - библиотеки: Sklearn, XgBoost, LightGBM, CatBoost\n",
    "2. #### Практика\n",
    "    - Пример запуска sklearn.ensemble.GradientBoostingClassifier\n",
    "3. #### Выводы\n",
    "4. #### Дополнительный материал: соревнование Porto Seguro Safe Driver's Prediction"
   ]
  },
  {
   "cell_type": "markdown",
   "metadata": {},
   "source": [
    "<img src='img/boosting.jpg' width=300>"
   ]
  },
  {
   "cell_type": "markdown",
   "metadata": {},
   "source": [
    "# Теория"
   ]
  },
  {
   "cell_type": "markdown",
   "metadata": {},
   "source": [
    "### Пример для иллюстрации принципа работы бустинга\n",
    "Пусть базовые алгоритмы – всего лишь \"пеньки\", то есть деревья решений глубины 1.\n",
    "<img src='img/adaboost_toy_step1.png' width=700>\n",
    "Веса объектов, на которых базовый алгоритм ошибается, увеличиваются (кружки увеличиваются в размере).\n",
    "<img src='img/adaboost_toy_step2.png' width=700>\n",
    "В конце базовые алгоритмы \"голосуют\", их веса определялись $\\alpha_t$ в процессе построения.\n",
    "<img src='img/adaboost_toy_step3.png' width=700>"
   ]
  },
  {
   "cell_type": "markdown",
   "metadata": {},
   "source": [
    "### Библиотеки"
   ]
  },
  {
   "cell_type": "markdown",
   "metadata": {},
   "source": [
    "<img src='img/timeline.png'>"
   ]
  },
  {
   "cell_type": "markdown",
   "metadata": {},
   "source": [
    "#### XgBoost\n",
    "- есть JVM, Julia, R package\n",
    "- не умеет обрабатывать категориальные признаки (в отличие от LightGBM и CatBoost)\n",
    "- зачастую ставится на Windows с большими проблемами\n",
    "\n",
    "#### LightGBM\n",
    "- умеет обрабатывать категориальные признаки\n",
    "- эффективно расходует память\n",
    "- достаточно часто дает качество чуть лучше, чем CatBoost\n",
    " \n",
    "#### CatBoost\n",
    "- можно добавить регуляризацию (помогает избежать переобучения)\n",
    "- есть C и C++ API\n",
    "- можно использовать красивые средства визуализации: CatBoost Viewer и TensorBoard\n",
    "- можно прикрутить к ClickHouse\n",
    "- feature/object importance (можно считать важность не только признаков, но и объектов в выборке)\n",
    "- делает бэкапы в процессе обучения (если что-то пойдет не так, не нужно будет переучивать модель заново)"
   ]
  },
  {
   "cell_type": "markdown",
   "metadata": {},
   "source": [
    "# Практика"
   ]
  },
  {
   "cell_type": "markdown",
   "metadata": {},
   "source": [
    "В sklearn доступны алгоритмы AdaBoost и GradientBoosting для задач классификации и регрессии.\n",
    "Рассмотрим пример запуска <a href=\"http://scikit-learn.org/stable/modules/generated/sklearn.ensemble.GradientBoostingClassifier.html\">GradientBoostingClassifier</a>."
   ]
  },
  {
   "cell_type": "code",
   "execution_count": 1,
   "metadata": {},
   "outputs": [],
   "source": [
    "from sklearn.ensemble import GradientBoostingClassifier\n",
    "from sklearn.datasets import make_classification\n",
    "from sklearn.model_selection import train_test_split\n",
    "from sklearn.metrics import accuracy_score\n",
    "\n",
    "import warnings\n",
    "warnings.simplefilter(\"ignore\")"
   ]
  },
  {
   "cell_type": "markdown",
   "metadata": {},
   "source": [
    "## 1. Пример запуска sklearn.ensemble.GradientBoostingClassifier\n",
    "### <a href='http://scikit-learn.org/stable/modules/generated/sklearn.ensemble.GradientBoostingClassifier.html'> Список параметров </a>\n",
    "- #### метрики\n",
    "    - loss [default=\"deviance\"] - оптимизируемая функция потерь.  Одна из {\"deviance\", \"exponential\"}. Первая соответствует логистической регрессии и возвращает вероятности, вторая - AdaBoost.\n",
    "- #### процесс обучения\n",
    "    - learning_rate [default=0.1] - темп обучения, насколько быстро будут меняться веса.\n",
    "    - n_estimators [default=100] - число итераций градиентного бустинга.\n",
    "- #### характеристики деревьев в композиции\n",
    "    - max_depth [default=3] - максимальная глубина деревьев в композиции.\n",
    "    - min_samples_split [default=2] - минимальное число примеров, необходимое для разветвления в данной вершине.\n",
    "    - min_samples_leaf [default=1] - минимальное число примеров в листе.\n",
    "    - min_weight_fraction_leaf [default=0.0] - минимальное взвешенное число примеров в листе.\n",
    "- #### технические параметры\n",
    "    - verbose [default=0] - нужно ли печатать отладочный вывод или нет."
   ]
  },
  {
   "cell_type": "markdown",
   "metadata": {},
   "source": [
    "### Генерирация датасета для обучения"
   ]
  },
  {
   "cell_type": "markdown",
   "metadata": {},
   "source": [
    "Будем генерировать выборку из 1000 объектов и 50 признаков с помощью sklearn.datasets.make_classification"
   ]
  },
  {
   "cell_type": "code",
   "execution_count": 2,
   "metadata": {},
   "outputs": [],
   "source": [
    "# Generating dataset\n",
    "X, y = make_classification(n_samples=1000, n_features=50, \n",
    "                           n_informative=20)\n",
    "\n",
    "# splitting dataset into train and test\n",
    "X_train, X_test, y_train, y_test = # your code here"
   ]
  },
  {
   "cell_type": "markdown",
   "metadata": {},
   "source": [
    "### Обучение GradientBoostingClassifier"
   ]
  },
  {
   "cell_type": "code",
   "execution_count": 3,
   "metadata": {},
   "outputs": [
    {
     "data": {
      "text/plain": [
       "GradientBoostingClassifier(criterion='friedman_mse', init=None,\n",
       "              learning_rate=0.1, loss='deviance', max_depth=5,\n",
       "              max_features=None, max_leaf_nodes=None,\n",
       "              min_impurity_decrease=0.0, min_impurity_split=None,\n",
       "              min_samples_leaf=1, min_samples_split=2,\n",
       "              min_weight_fraction_leaf=0.0, n_estimators=100,\n",
       "              presort='auto', random_state=None, subsample=1.0, verbose=0,\n",
       "              warm_start=False)"
      ]
     },
     "execution_count": 3,
     "metadata": {},
     "output_type": "execute_result"
    }
   ],
   "source": [
    "# GradientBoostingClassifier initialization\n",
    "# your code here\n",
    "\n",
    "# GradientBoostingClassifier fitting\n",
    "# your code here"
   ]
  },
  {
   "cell_type": "markdown",
   "metadata": {},
   "source": [
    "### Предсказание меток классов"
   ]
  },
  {
   "cell_type": "code",
   "execution_count": 4,
   "metadata": {},
   "outputs": [
    {
     "name": "stdout",
     "output_type": "stream",
     "text": [
      "Accuracy: 0.9\n"
     ]
    }
   ],
   "source": [
    "# predict\n",
    "y_pred = # your code here\n",
    "\n",
    "# measure accuracy\n",
    "accuracy = # your code here   \n",
    "\n",
    "# print accuracy\n",
    "print(u'Accuracy:', accuracy)"
   ]
  },
  {
   "cell_type": "markdown",
   "metadata": {},
   "source": [
    "## 2. Пример запуска LightGBM"
   ]
  },
  {
   "cell_type": "markdown",
   "metadata": {},
   "source": [
    "### <a href='https://lightgbm.readthedocs.io/en/latest/Parameters.html'> Список параметров </a>\n",
    "- #### метрики\n",
    "    - objective [default=\"regression\"] - оптимизируемая функция потерь. Одна из:\n",
    "        - regression\n",
    "        - regression_l1\n",
    "        - huber\n",
    "        - fair\n",
    "        - poisson\n",
    "        - quantile\n",
    "        - mape\n",
    "        - binary\n",
    "        - multiclass\n",
    "        - xentropy\n",
    "        - lambdarank\n",
    "        - etc.\n",
    "- #### процесс обучения\n",
    "    - learning_rate [default=0.1] - темп обучения, насколько быстро будут меняться веса.\n",
    "    - num_iteration [default=100] - число итераций градиентного бустинга.\n",
    "- #### характеристики деревьев в композиции\n",
    "    - max_depth [default=-1 (нет ограничения на глубину)] - максимальная глубина деревьев в композиции.\n",
    "    - min_gain_to_split [default=0.0] - минимальное значение критерия информативности, необходимое для разветвления в данной вершине.\n",
    "    - min_data_in_leaf [default=20] - минимальное число примеров в листе.\n",
    "- #### технические параметры\n",
    "    - verbosity [default=1] - нужно ли печатать отладочный вывод или нет."
   ]
  },
  {
   "cell_type": "markdown",
   "metadata": {},
   "source": [
    "### Генерирация датасета для обучения (аналогично предыдущему примеру)"
   ]
  },
  {
   "cell_type": "code",
   "execution_count": null,
   "metadata": {},
   "outputs": [],
   "source": [
    "# Generating dataset\n",
    "X, y = make_classification(n_samples=1000, n_features=50, n_informative=20)\n",
    "\n",
    "# splitting dataset into train and test\n",
    "X_train, X_test, y_train, y_test = # your code here"
   ]
  },
  {
   "cell_type": "markdown",
   "metadata": {},
   "source": [
    "### Обучение LightGBM"
   ]
  },
  {
   "cell_type": "markdown",
   "metadata": {},
   "source": [
    "Перед обучением нужно превратить данные в формат, доступный в LightGBM. Делаем это с помощью команды `lightgbm.Dataset`"
   ]
  },
  {
   "cell_type": "code",
   "execution_count": 98,
   "metadata": {},
   "outputs": [],
   "source": [
    "# Create the LightGBM data containers\n",
    "train_data = lightgbm.Dataset(\n",
    "    X_train,\n",
    "    label=y_train\n",
    ")\n",
    "\n",
    "test_data = # your code here"
   ]
  },
  {
   "cell_type": "markdown",
   "metadata": {},
   "source": [
    "Обучаем модель:"
   ]
  },
  {
   "cell_type": "code",
   "execution_count": 102,
   "metadata": {},
   "outputs": [],
   "source": [
    "model = lightgbm.train(\n",
    "    {'num_iterations': 100, 'max_depth': 5},\n",
    "    train_data,\n",
    "    valid_sets=test_data,\n",
    "    num_boost_round=100\n",
    ")"
   ]
  },
  {
   "cell_type": "markdown",
   "metadata": {},
   "source": [
    "### Предсказание меток классов"
   ]
  },
  {
   "cell_type": "code",
   "execution_count": 105,
   "metadata": {},
   "outputs": [],
   "source": [
    "# predict\n",
    "y_pred = # your code here"
   ]
  },
  {
   "cell_type": "code",
   "execution_count": 107,
   "metadata": {},
   "outputs": [
    {
     "data": {
      "text/plain": [
       "array([ 0.95728359,  0.70460998,  0.18385195, -0.00568949,  0.89636035])"
      ]
     },
     "execution_count": 107,
     "metadata": {},
     "output_type": "execute_result"
    }
   ],
   "source": [
    "y_pred[:5]"
   ]
  },
  {
   "cell_type": "markdown",
   "metadata": {},
   "source": [
    "Посмотрим на `y_pred`. В отличие от `GradientBoostingClassifier` из `sklearn`, `LightGBM` предсказывает не класс объекта, а его вероятность принадлежности классу. Перед тем, как считать `accuracy`, посчитаем метки классов по вероятностям (считаем, что если вероятность больше $0.5$, то объект принадлежит классу $1$, иначе классу $0$)."
   ]
  },
  {
   "cell_type": "code",
   "execution_count": 110,
   "metadata": {},
   "outputs": [],
   "source": [
    "# transform probabilities to labels\n",
    "def binarize(prob):\n",
    "    return int(prob >= 0.5)\n",
    "\n",
    "y_pred = list(map(binarize, y_pred))"
   ]
  },
  {
   "cell_type": "code",
   "execution_count": 112,
   "metadata": {},
   "outputs": [
    {
     "name": "stdout",
     "output_type": "stream",
     "text": [
      "Accuracy: 0.805\n"
     ]
    }
   ],
   "source": [
    "# measure accuracy\n",
    "accuracy = # your code here  \n",
    "\n",
    "# print accuracy\n",
    "print(u'Accuracy:', accuracy)"
   ]
  },
  {
   "cell_type": "markdown",
   "metadata": {},
   "source": [
    "## 3. Сравнение GradientBoostingClassifier и LightGBM"
   ]
  },
  {
   "cell_type": "markdown",
   "metadata": {},
   "source": [
    "Будем как и в предыдущих примерах генерировать выборку из 1000 объектов и 50 признаков с помощью sklearn.datasets.make_classification. Дальше будем замерять время обучения и качество работы классификатора."
   ]
  },
  {
   "cell_type": "code",
   "execution_count": 115,
   "metadata": {},
   "outputs": [],
   "source": [
    "import time\n",
    "from sklearn.ensemble import GradientBoostingClassifier\n",
    "from sklearn.datasets import make_classification\n",
    "from sklearn.metrics import accuracy_score"
   ]
  },
  {
   "cell_type": "markdown",
   "metadata": {},
   "source": [
    "Заранее зададим параметры для градиентного бустинга из `sklearn` и `lightgbm`:"
   ]
  },
  {
   "cell_type": "code",
   "execution_count": 116,
   "metadata": {},
   "outputs": [],
   "source": [
    "sklearn_params = {'n_estimators': 100, 'max_depth': 5}\n",
    "lgb_params = {'n_estimators': 100, 'max_depth': 5}"
   ]
  },
  {
   "cell_type": "markdown",
   "metadata": {},
   "source": [
    "Сделаем 50 запусков каждого алгоритма и для каждого замерим качество классификации и время работы:"
   ]
  },
  {
   "cell_type": "code",
   "execution_count": 117,
   "metadata": {},
   "outputs": [],
   "source": [
    "sklearn_time = list()\n",
    "lgb_time = list()\n",
    "\n",
    "sklearn_score = list()\n",
    "lgb_score = list()\n",
    "\n",
    "n_runs = 50"
   ]
  },
  {
   "cell_type": "code",
   "execution_count": 86,
   "metadata": {},
   "outputs": [
    {
     "name": "stderr",
     "output_type": "stream",
     "text": [
      "/Users/yanina-n/miniconda3/envs/Clear_python3/lib/python3.6/site-packages/lightgbm/engine.py:102: UserWarning: Found `n_estimators` in params. Will use it instead of argument\n",
      "  warnings.warn(\"Found `{}` in params. Will use it instead of argument\".format(alias))\n"
     ]
    }
   ],
   "source": [
    "for i in range(n_runs):\n",
    "    \n",
    "    ########################### PREPARING DATA #################################\n",
    "    \n",
    "    # Generating dataset\n",
    "    X, y = make_classification(n_samples=1000, n_features=50, n_informative=20)\n",
    "    \n",
    "    # splitting dataset into train and test\n",
    "    X_train, X_test, y_train, y_test = # your code here\n",
    "\n",
    "    \n",
    "    ##################### GRADIENT BOOSTING CLASSIFIER ########################\n",
    "    \n",
    "    # measure working time\n",
    "    t = time.time()\n",
    "    \n",
    "    # GradientBoostingClassifier fitting\n",
    "    clf = GradientBoostingClassifier(**sklearn_params)\n",
    "    # your code here\n",
    "    \n",
    "    # save elapsed time to list\n",
    "    elapsed = time.time() - t\n",
    "    sklearn_time.append(elapsed)\n",
    "    \n",
    "    # predict\n",
    "    y_pred = # your code here\n",
    "    \n",
    "    # measure accuracy and save it to list\n",
    "    accuracy = # your code here   \n",
    "    sklearn_score.append(accuracy)\n",
    "    \n",
    "    \n",
    "    \n",
    "    ################################# LIGHTGBM ################################\n",
    "    \n",
    "    # measure working time\n",
    "    t = time.time()\n",
    "    \n",
    "    # Create the LightGBM data containers\n",
    "    train_data = # your code here\n",
    "\n",
    "    test_data = # your code here\n",
    "    \n",
    "    model = # your code here\n",
    "    \n",
    "    # save elapsed time to list\n",
    "    elapsed = time.time() - t\n",
    "    lgb_time.append(elapsed)\n",
    "    \n",
    "    # predict\n",
    "    y_pred = # your code here\n",
    "    y_pred = list(map(binarize, y_pred))\n",
    "    \n",
    "    # measure accuracy and save it to list\n",
    "    accuracy = # your code here   \n",
    "    lgb_score.append(accuracy)"
   ]
  },
  {
   "cell_type": "markdown",
   "metadata": {},
   "source": [
    "Нарисуем график, отражающий время работы двух алгоритмов:"
   ]
  },
  {
   "cell_type": "code",
   "execution_count": 87,
   "metadata": {},
   "outputs": [
    {
     "data": {
      "image/png": "[encoded data removed]",
      "text/plain": [
       "<Figure size 864x576 with 1 Axes>"
      ]
     },
     "metadata": {},
     "output_type": "display_data"
    }
   ],
   "source": [
    "%matplotlib  inline\n",
    "import matplotlib.pyplot as plt\n",
    "\n",
    "lgb_mean = sum(lgb_time) / n_runs\n",
    "sklearn_mean = sum(sklearn_time) / n_runs\n",
    "\n",
    "plt.figure(figsize=(12, 8))\n",
    "plt.plot(lgb_time, label='LightGBM', lw=2)\n",
    "plt.plot(sklearn_time, label='GradientBoostingClassifier', lw=2)\n",
    "plt.legend(loc='best')\n",
    "plt.text(1, (lgb_mean + sklearn_mean) / 2, \n",
    "         'LightGBM mean time = %.2f sec.' % lgb_mean +\n",
    "         '\\n\\nScikit-learn mean time = %.2f sec.' % sklearn_mean,\n",
    "            fontsize = 15)\n",
    "plt.xlabel('Iteration number')\n",
    "plt.ylabel('Running time, sec')\n",
    "plt.title('LightGBM vs. GradientBoostingClassifier comparison')\n",
    "plt.show()"
   ]
  },
  {
   "cell_type": "markdown",
   "metadata": {},
   "source": [
    "И график качества классификации:"
   ]
  },
  {
   "cell_type": "code",
   "execution_count": 88,
   "metadata": {},
   "outputs": [
    {
     "data": {
      "image/png": "[encoded data removed]",
      "text/plain": [
       "<Figure size 864x576 with 1 Axes>"
      ]
     },
     "metadata": {},
     "output_type": "display_data"
    }
   ],
   "source": [
    "%matplotlib  inline\n",
    "import matplotlib.pyplot as plt\n",
    "\n",
    "lgb_mean = sum(lgb_score) / n_runs\n",
    "sklearn_mean = sum(sklearn_score) / n_runs\n",
    "\n",
    "plt.figure(figsize=(12, 8))\n",
    "plt.plot(lgb_score, label='LightGBM', lw=2)\n",
    "plt.plot(sklearn_score, label='GradientBoostingClassifier', lw=2)\n",
    "plt.legend(loc='best')\n",
    "plt.text(1, (lgb_mean + sklearn_mean) / 2, \n",
    "         'LightGBM mean accuracy = %.2f' % lgb_mean +\n",
    "         '\\n\\nScikit-learn mean accuracy = %.2f' % sklearn_mean,\n",
    "            fontsize = 15)\n",
    "plt.xlabel('Iteration number')\n",
    "plt.ylabel('Accuracy, sec')\n",
    "plt.title('LightGBM vs. GradientBoostingClassifier comparison')\n",
    "plt.show()"
   ]
  },
  {
   "cell_type": "markdown",
   "metadata": {},
   "source": [
    "## Выводы\n",
    "\n",
    "Основные преимущества LightGBM по сравнению с sklearn.ensembles.GradientBoostingClassifier:\n",
    "- Помимо деревьев возможно использование линейных моделей в качестве базовых классификаторов.\n",
    "- Скорость работы.\n",
    "- Возможность распараллеливания.\n",
    "- Значительно больший выбор стандартных функций потерь, а также возможность задавать свою функцию потерь.\n",
    "- Наличие регуляризаторов в итоговой функции потерь и возможность задавать их коэффициенты, что даёт еще один метод борьбы с переобучением, помимо использования случайности (subsample, colsample_bytree) и основных параметров дерева решений.\n",
    "- Встроенная обработка missing values."
   ]
  },
  {
   "cell_type": "markdown",
   "metadata": {},
   "source": [
    "### Вопрос: переобучается ли градиентный бустинг?"
   ]
  },
  {
   "cell_type": "markdown",
   "metadata": {},
   "source": [
    "<img src='img/norm_overfit_ru.jpg' width=500>"
   ]
  },
  {
   "cell_type": "markdown",
   "metadata": {},
   "source": [
    "## Дополнительный материал"
   ]
  },
  {
   "cell_type": "markdown",
   "metadata": {},
   "source": [
    "### Соревнование <a href='https://www.kaggle.com/c/porto-seguro-safe-driver-prediction'> Porto Seguro Safe Driver's Prediction </a>"
   ]
  },
  {
   "cell_type": "markdown",
   "metadata": {},
   "source": [
    "Будем предсказывать вероятность того, что держатель автомобильной страховки подаст иск на компанию."
   ]
  },
  {
   "cell_type": "code",
   "execution_count": 41,
   "metadata": {},
   "outputs": [],
   "source": [
    "import numpy as np\n",
    "import pandas as pd\n",
    "import lightgbm\n",
    "from sklearn.model_selection import train_test_split\n",
    "from sklearn.preprocessing import LabelBinarizer"
   ]
  },
  {
   "cell_type": "code",
   "execution_count": 27,
   "metadata": {},
   "outputs": [],
   "source": [
    "train = pd.read_csv('data/train.csv')"
   ]
  },
  {
   "cell_type": "markdown",
   "metadata": {},
   "source": [
    "Посмотрим на датасет:"
   ]
  },
  {
   "cell_type": "code",
   "execution_count": 28,
   "metadata": {},
   "outputs": [
    {
     "data": {
      "text/html": [
       "<div>\n",
       "<style scoped>\n",
       "    .dataframe tbody tr th:only-of-type {\n",
       "        vertical-align: middle;\n",
       "    }\n",
       "\n",
       "    .dataframe tbody tr th {\n",
       "        vertical-align: top;\n",
       "    }\n",
       "\n",
       "    .dataframe thead th {\n",
       "        text-align: right;\n",
       "    }\n",
       "</style>\n",
       "<table border=\"1\" class=\"dataframe\">\n",
       "  <thead>\n",
       "    <tr style=\"text-align: right;\">\n",
       "      <th></th>\n",
       "      <th>id</th>\n",
       "      <th>target</th>\n",
       "      <th>ps_ind_01</th>\n",
       "      <th>ps_ind_02_cat</th>\n",
       "      <th>ps_ind_03</th>\n",
       "      <th>ps_ind_04_cat</th>\n",
       "      <th>ps_ind_05_cat</th>\n",
       "      <th>ps_ind_06_bin</th>\n",
       "      <th>ps_ind_07_bin</th>\n",
       "      <th>ps_ind_08_bin</th>\n",
       "      <th>...</th>\n",
       "      <th>ps_calc_11</th>\n",
       "      <th>ps_calc_12</th>\n",
       "      <th>ps_calc_13</th>\n",
       "      <th>ps_calc_14</th>\n",
       "      <th>ps_calc_15_bin</th>\n",
       "      <th>ps_calc_16_bin</th>\n",
       "      <th>ps_calc_17_bin</th>\n",
       "      <th>ps_calc_18_bin</th>\n",
       "      <th>ps_calc_19_bin</th>\n",
       "      <th>ps_calc_20_bin</th>\n",
       "    </tr>\n",
       "  </thead>\n",
       "  <tbody>\n",
       "    <tr>\n",
       "      <th>0</th>\n",
       "      <td>7</td>\n",
       "      <td>0</td>\n",
       "      <td>2</td>\n",
       "      <td>2</td>\n",
       "      <td>5</td>\n",
       "      <td>1</td>\n",
       "      <td>0</td>\n",
       "      <td>0</td>\n",
       "      <td>1</td>\n",
       "      <td>0</td>\n",
       "      <td>...</td>\n",
       "      <td>9</td>\n",
       "      <td>1</td>\n",
       "      <td>5</td>\n",
       "      <td>8</td>\n",
       "      <td>0</td>\n",
       "      <td>1</td>\n",
       "      <td>1</td>\n",
       "      <td>0</td>\n",
       "      <td>0</td>\n",
       "      <td>1</td>\n",
       "    </tr>\n",
       "    <tr>\n",
       "      <th>1</th>\n",
       "      <td>9</td>\n",
       "      <td>0</td>\n",
       "      <td>1</td>\n",
       "      <td>1</td>\n",
       "      <td>7</td>\n",
       "      <td>0</td>\n",
       "      <td>0</td>\n",
       "      <td>0</td>\n",
       "      <td>0</td>\n",
       "      <td>1</td>\n",
       "      <td>...</td>\n",
       "      <td>3</td>\n",
       "      <td>1</td>\n",
       "      <td>1</td>\n",
       "      <td>9</td>\n",
       "      <td>0</td>\n",
       "      <td>1</td>\n",
       "      <td>1</td>\n",
       "      <td>0</td>\n",
       "      <td>1</td>\n",
       "      <td>0</td>\n",
       "    </tr>\n",
       "    <tr>\n",
       "      <th>2</th>\n",
       "      <td>13</td>\n",
       "      <td>0</td>\n",
       "      <td>5</td>\n",
       "      <td>4</td>\n",
       "      <td>9</td>\n",
       "      <td>1</td>\n",
       "      <td>0</td>\n",
       "      <td>0</td>\n",
       "      <td>0</td>\n",
       "      <td>1</td>\n",
       "      <td>...</td>\n",
       "      <td>4</td>\n",
       "      <td>2</td>\n",
       "      <td>7</td>\n",
       "      <td>7</td>\n",
       "      <td>0</td>\n",
       "      <td>1</td>\n",
       "      <td>1</td>\n",
       "      <td>0</td>\n",
       "      <td>1</td>\n",
       "      <td>0</td>\n",
       "    </tr>\n",
       "    <tr>\n",
       "      <th>3</th>\n",
       "      <td>16</td>\n",
       "      <td>0</td>\n",
       "      <td>0</td>\n",
       "      <td>1</td>\n",
       "      <td>2</td>\n",
       "      <td>0</td>\n",
       "      <td>0</td>\n",
       "      <td>1</td>\n",
       "      <td>0</td>\n",
       "      <td>0</td>\n",
       "      <td>...</td>\n",
       "      <td>2</td>\n",
       "      <td>2</td>\n",
       "      <td>4</td>\n",
       "      <td>9</td>\n",
       "      <td>0</td>\n",
       "      <td>0</td>\n",
       "      <td>0</td>\n",
       "      <td>0</td>\n",
       "      <td>0</td>\n",
       "      <td>0</td>\n",
       "    </tr>\n",
       "    <tr>\n",
       "      <th>4</th>\n",
       "      <td>17</td>\n",
       "      <td>0</td>\n",
       "      <td>0</td>\n",
       "      <td>2</td>\n",
       "      <td>0</td>\n",
       "      <td>1</td>\n",
       "      <td>0</td>\n",
       "      <td>1</td>\n",
       "      <td>0</td>\n",
       "      <td>0</td>\n",
       "      <td>...</td>\n",
       "      <td>3</td>\n",
       "      <td>1</td>\n",
       "      <td>1</td>\n",
       "      <td>3</td>\n",
       "      <td>0</td>\n",
       "      <td>0</td>\n",
       "      <td>0</td>\n",
       "      <td>1</td>\n",
       "      <td>1</td>\n",
       "      <td>0</td>\n",
       "    </tr>\n",
       "  </tbody>\n",
       "</table>\n",
       "<p>5 rows × 59 columns</p>\n",
       "</div>"
      ],
      "text/plain": [
       "   id  target  ps_ind_01  ps_ind_02_cat  ps_ind_03  ps_ind_04_cat  \\\n",
       "0   7       0          2              2          5              1   \n",
       "1   9       0          1              1          7              0   \n",
       "2  13       0          5              4          9              1   \n",
       "3  16       0          0              1          2              0   \n",
       "4  17       0          0              2          0              1   \n",
       "\n",
       "   ps_ind_05_cat  ps_ind_06_bin  ps_ind_07_bin  ps_ind_08_bin       ...        \\\n",
       "0              0              0              1              0       ...         \n",
       "1              0              0              0              1       ...         \n",
       "2              0              0              0              1       ...         \n",
       "3              0              1              0              0       ...         \n",
       "4              0              1              0              0       ...         \n",
       "\n",
       "   ps_calc_11  ps_calc_12  ps_calc_13  ps_calc_14  ps_calc_15_bin  \\\n",
       "0           9           1           5           8               0   \n",
       "1           3           1           1           9               0   \n",
       "2           4           2           7           7               0   \n",
       "3           2           2           4           9               0   \n",
       "4           3           1           1           3               0   \n",
       "\n",
       "   ps_calc_16_bin  ps_calc_17_bin  ps_calc_18_bin  ps_calc_19_bin  \\\n",
       "0               1               1               0               0   \n",
       "1               1               1               0               1   \n",
       "2               1               1               0               1   \n",
       "3               0               0               0               0   \n",
       "4               0               0               1               1   \n",
       "\n",
       "   ps_calc_20_bin  \n",
       "0               1  \n",
       "1               0  \n",
       "2               0  \n",
       "3               0  \n",
       "4               0  \n",
       "\n",
       "[5 rows x 59 columns]"
      ]
     },
     "execution_count": 28,
     "metadata": {},
     "output_type": "execute_result"
    }
   ],
   "source": [
    "train.head()"
   ]
  },
  {
   "cell_type": "code",
   "execution_count": 29,
   "metadata": {},
   "outputs": [
    {
     "data": {
      "text/plain": [
       "Index(['id', 'target', 'ps_ind_01', 'ps_ind_02_cat', 'ps_ind_03',\n",
       "       'ps_ind_04_cat', 'ps_ind_05_cat', 'ps_ind_06_bin', 'ps_ind_07_bin',\n",
       "       'ps_ind_08_bin', 'ps_ind_09_bin', 'ps_ind_10_bin', 'ps_ind_11_bin',\n",
       "       'ps_ind_12_bin', 'ps_ind_13_bin', 'ps_ind_14', 'ps_ind_15',\n",
       "       'ps_ind_16_bin', 'ps_ind_17_bin', 'ps_ind_18_bin', 'ps_reg_01',\n",
       "       'ps_reg_02', 'ps_reg_03', 'ps_car_01_cat', 'ps_car_02_cat',\n",
       "       'ps_car_03_cat', 'ps_car_04_cat', 'ps_car_05_cat', 'ps_car_06_cat',\n",
       "       'ps_car_07_cat', 'ps_car_08_cat', 'ps_car_09_cat', 'ps_car_10_cat',\n",
       "       'ps_car_11_cat', 'ps_car_11', 'ps_car_12', 'ps_car_13', 'ps_car_14',\n",
       "       'ps_car_15', 'ps_calc_01', 'ps_calc_02', 'ps_calc_03', 'ps_calc_04',\n",
       "       'ps_calc_05', 'ps_calc_06', 'ps_calc_07', 'ps_calc_08', 'ps_calc_09',\n",
       "       'ps_calc_10', 'ps_calc_11', 'ps_calc_12', 'ps_calc_13', 'ps_calc_14',\n",
       "       'ps_calc_15_bin', 'ps_calc_16_bin', 'ps_calc_17_bin', 'ps_calc_18_bin',\n",
       "       'ps_calc_19_bin', 'ps_calc_20_bin'],\n",
       "      dtype='object')"
      ]
     },
     "execution_count": 29,
     "metadata": {},
     "output_type": "execute_result"
    }
   ],
   "source": [
    "train.columns"
   ]
  },
  {
   "cell_type": "markdown",
   "metadata": {},
   "source": [
    "Данные обезличены, понять, какой признак за что отвечает нельзя. Единственная доступная информация - это группировки (каждый признак относится к одной из трех групп: `ind`, `car`, `calc`)"
   ]
  },
  {
   "cell_type": "markdown",
   "metadata": {},
   "source": [
    "У названий признаков есть постфиксы - `bin` для бинарных признаков, `cat` для категориальных. Для численных признаков постфикса нет. Пропуски в данных уже предобработаны: если в графе стоит `-1`, это значит, что значение было пропущено."
   ]
  },
  {
   "cell_type": "code",
   "execution_count": 30,
   "metadata": {},
   "outputs": [],
   "source": [
    "# get the labels\n",
    "y = train.target.values"
   ]
  },
  {
   "cell_type": "markdown",
   "metadata": {},
   "source": [
    "Таргет означает, был или нет подан иск конкретным держателем страховки. Посмотрим на сбалансированность классов. Будем считать, что вероятность выше 0.5 означает подачу иска, иначе - отсутствие иска."
   ]
  },
  {
   "cell_type": "code",
   "execution_count": 35,
   "metadata": {},
   "outputs": [
    {
     "data": {
      "text/plain": [
       "Counter({0: 573518, 1: 21694})"
      ]
     },
     "execution_count": 35,
     "metadata": {},
     "output_type": "execute_result"
    }
   ],
   "source": [
    "from collections import Counter\n",
    "\n",
    "Counter(y)"
   ]
  },
  {
   "cell_type": "code",
   "execution_count": 36,
   "metadata": {},
   "outputs": [],
   "source": [
    "# get the features\n",
    "train.drop(['id', 'target'], inplace=True, axis=1)\n",
    "x = train.values"
   ]
  },
  {
   "cell_type": "code",
   "execution_count": 7,
   "metadata": {},
   "outputs": [],
   "source": [
    "# Create training and validation sets\n",
    "x, x_test, y, y_test = train_test_split(x, y, test_size=0.2, random_state=42, stratify=y)"
   ]
  },
  {
   "cell_type": "code",
   "execution_count": 37,
   "metadata": {},
   "outputs": [],
   "source": [
    "categorical_features = [c for c, col in enumerate(train.columns) if 'cat' in col]"
   ]
  },
  {
   "cell_type": "code",
   "execution_count": 38,
   "metadata": {},
   "outputs": [
    {
     "data": {
      "text/plain": [
       "[1, 3, 4, 21, 22, 23, 24, 25, 26, 27, 28, 29, 30, 31]"
      ]
     },
     "execution_count": 38,
     "metadata": {},
     "output_type": "execute_result"
    }
   ],
   "source": [
    "categorical_features"
   ]
  },
  {
   "cell_type": "code",
   "execution_count": 8,
   "metadata": {},
   "outputs": [],
   "source": [
    "# Create the LightGBM data containers\n",
    "train_data = lightgbm.Dataset(\n",
    "    x,\n",
    "    label=y,\n",
    "    categorical_feature=categorical_features\n",
    ")\n",
    "\n",
    "test_data = lightgbm.Dataset(x_test, label=y_test)"
   ]
  },
  {
   "cell_type": "markdown",
   "metadata": {},
   "source": [
    "Параметры модели:"
   ]
  },
  {
   "cell_type": "code",
   "execution_count": 9,
   "metadata": {},
   "outputs": [],
   "source": [
    "parameters = {\n",
    "    'application': 'binary',\n",
    "    'objective': 'binary',\n",
    "    'metric': 'auc',\n",
    "    'is_unbalance': 'true',\n",
    "    'boosting': 'gbdt',\n",
    "    'num_leaves': 31,\n",
    "    'feature_fraction': 0.5,\n",
    "    'bagging_fraction': 0.5,\n",
    "    'bagging_freq': 20,\n",
    "    'learning_rate': 0.05,\n",
    "    'verbose': 0\n",
    "}"
   ]
  },
  {
   "cell_type": "markdown",
   "metadata": {},
   "source": [
    "Обучение модели:"
   ]
  },
  {
   "cell_type": "code",
   "execution_count": 10,
   "metadata": {},
   "outputs": [
    {
     "name": "stderr",
     "output_type": "stream",
     "text": [
      "/Users/yanina-n/miniconda3/envs/Clear_python3/lib/python3.6/site-packages/lightgbm/basic.py:1040: UserWarning: Using categorical_feature in Dataset.\n",
      "  warnings.warn('Using categorical_feature in Dataset.')\n",
      "/Users/yanina-n/miniconda3/envs/Clear_python3/lib/python3.6/site-packages/lightgbm/basic.py:1042: UserWarning: categorical_feature in Dataset is overridden. New categorical_feature is [1, 3, 4, 21, 22, 23, 24, 25, 26, 27, 28, 29, 30, 31]\n",
      "  warnings.warn('categorical_feature in Dataset is overridden. New categorical_feature is {}'.format(sorted(list(categorical_feature))))\n",
      "/Users/yanina-n/miniconda3/envs/Clear_python3/lib/python3.6/site-packages/lightgbm/basic.py:685: UserWarning: categorical_feature in param dict is overridden.\n",
      "  warnings.warn('categorical_feature in param dict is overridden.')\n"
     ]
    },
    {
     "name": "stdout",
     "output_type": "stream",
     "text": [
      "[1]\tvalid_0's auc: 0.587454\n",
      "Training until validation scores don't improve for 100 rounds.\n",
      "[2]\tvalid_0's auc: 0.600187\n",
      "[3]\tvalid_0's auc: 0.604699\n",
      "[4]\tvalid_0's auc: 0.611374\n",
      "[5]\tvalid_0's auc: 0.613078\n",
      "[6]\tvalid_0's auc: 0.614256\n",
      "[7]\tvalid_0's auc: 0.615208\n",
      "[8]\tvalid_0's auc: 0.616592\n",
      "[9]\tvalid_0's auc: 0.618192\n",
      "[10]\tvalid_0's auc: 0.618957\n",
      "[11]\tvalid_0's auc: 0.619668\n",
      "[12]\tvalid_0's auc: 0.620406\n",
      "[13]\tvalid_0's auc: 0.620509\n",
      "[14]\tvalid_0's auc: 0.620655\n",
      "[15]\tvalid_0's auc: 0.620844\n",
      "[16]\tvalid_0's auc: 0.621258\n",
      "[17]\tvalid_0's auc: 0.621498\n",
      "[18]\tvalid_0's auc: 0.622105\n",
      "[19]\tvalid_0's auc: 0.621989\n",
      "[20]\tvalid_0's auc: 0.621608\n",
      "[21]\tvalid_0's auc: 0.621841\n",
      "[22]\tvalid_0's auc: 0.622693\n",
      "[23]\tvalid_0's auc: 0.622832\n",
      "[24]\tvalid_0's auc: 0.622936\n",
      "[25]\tvalid_0's auc: 0.623135\n",
      "[26]\tvalid_0's auc: 0.623084\n",
      "[27]\tvalid_0's auc: 0.622904\n",
      "[28]\tvalid_0's auc: 0.623089\n",
      "[29]\tvalid_0's auc: 0.623531\n",
      "[30]\tvalid_0's auc: 0.623823\n",
      "[31]\tvalid_0's auc: 0.624303\n",
      "[32]\tvalid_0's auc: 0.624457\n",
      "[33]\tvalid_0's auc: 0.624654\n",
      "[34]\tvalid_0's auc: 0.624715\n",
      "[35]\tvalid_0's auc: 0.624943\n",
      "[36]\tvalid_0's auc: 0.625091\n",
      "[37]\tvalid_0's auc: 0.62508\n",
      "[38]\tvalid_0's auc: 0.625236\n",
      "[39]\tvalid_0's auc: 0.625637\n",
      "[40]\tvalid_0's auc: 0.625806\n",
      "[41]\tvalid_0's auc: 0.625933\n",
      "[42]\tvalid_0's auc: 0.62636\n",
      "[43]\tvalid_0's auc: 0.626349\n",
      "[44]\tvalid_0's auc: 0.626687\n",
      "[45]\tvalid_0's auc: 0.626784\n",
      "[46]\tvalid_0's auc: 0.626989\n",
      "[47]\tvalid_0's auc: 0.627334\n",
      "[48]\tvalid_0's auc: 0.627315\n",
      "[49]\tvalid_0's auc: 0.627197\n",
      "[50]\tvalid_0's auc: 0.627226\n",
      "[51]\tvalid_0's auc: 0.627547\n",
      "[52]\tvalid_0's auc: 0.627723\n",
      "[53]\tvalid_0's auc: 0.627946\n",
      "[54]\tvalid_0's auc: 0.62793\n",
      "[55]\tvalid_0's auc: 0.62788\n",
      "[56]\tvalid_0's auc: 0.627903\n",
      "[57]\tvalid_0's auc: 0.62762\n",
      "[58]\tvalid_0's auc: 0.627714\n",
      "[59]\tvalid_0's auc: 0.627693\n",
      "[60]\tvalid_0's auc: 0.627727\n",
      "[61]\tvalid_0's auc: 0.627739\n",
      "[62]\tvalid_0's auc: 0.628112\n",
      "[63]\tvalid_0's auc: 0.628211\n",
      "[64]\tvalid_0's auc: 0.62823\n",
      "[65]\tvalid_0's auc: 0.62824\n",
      "[66]\tvalid_0's auc: 0.628381\n",
      "[67]\tvalid_0's auc: 0.628464\n",
      "[68]\tvalid_0's auc: 0.628213\n",
      "[69]\tvalid_0's auc: 0.62825\n",
      "[70]\tvalid_0's auc: 0.628101\n",
      "[71]\tvalid_0's auc: 0.628036\n",
      "[72]\tvalid_0's auc: 0.62822\n",
      "[73]\tvalid_0's auc: 0.628217\n",
      "[74]\tvalid_0's auc: 0.627991\n",
      "[75]\tvalid_0's auc: 0.628031\n",
      "[76]\tvalid_0's auc: 0.628195\n",
      "[77]\tvalid_0's auc: 0.628304\n",
      "[78]\tvalid_0's auc: 0.628106\n",
      "[79]\tvalid_0's auc: 0.627953\n",
      "[80]\tvalid_0's auc: 0.628038\n",
      "[81]\tvalid_0's auc: 0.628327\n",
      "[82]\tvalid_0's auc: 0.628502\n",
      "[83]\tvalid_0's auc: 0.628504\n",
      "[84]\tvalid_0's auc: 0.628662\n",
      "[85]\tvalid_0's auc: 0.628674\n",
      "[86]\tvalid_0's auc: 0.628667\n",
      "[87]\tvalid_0's auc: 0.628748\n",
      "[88]\tvalid_0's auc: 0.628713\n",
      "[89]\tvalid_0's auc: 0.628582\n",
      "[90]\tvalid_0's auc: 0.628419\n",
      "[91]\tvalid_0's auc: 0.62845\n",
      "[92]\tvalid_0's auc: 0.628487\n",
      "[93]\tvalid_0's auc: 0.628573\n",
      "[94]\tvalid_0's auc: 0.628513\n",
      "[95]\tvalid_0's auc: 0.62841\n",
      "[96]\tvalid_0's auc: 0.62837\n",
      "[97]\tvalid_0's auc: 0.628311\n",
      "[98]\tvalid_0's auc: 0.62844\n",
      "[99]\tvalid_0's auc: 0.628584\n",
      "[100]\tvalid_0's auc: 0.628461\n",
      "[101]\tvalid_0's auc: 0.628677\n",
      "[102]\tvalid_0's auc: 0.628563\n",
      "[103]\tvalid_0's auc: 0.628604\n",
      "[104]\tvalid_0's auc: 0.628717\n",
      "[105]\tvalid_0's auc: 0.628632\n",
      "[106]\tvalid_0's auc: 0.628419\n",
      "[107]\tvalid_0's auc: 0.628379\n",
      "[108]\tvalid_0's auc: 0.628216\n",
      "[109]\tvalid_0's auc: 0.628323\n",
      "[110]\tvalid_0's auc: 0.628199\n",
      "[111]\tvalid_0's auc: 0.628089\n",
      "[112]\tvalid_0's auc: 0.62793\n",
      "[113]\tvalid_0's auc: 0.627794\n",
      "[114]\tvalid_0's auc: 0.627687\n",
      "[115]\tvalid_0's auc: 0.627615\n",
      "[116]\tvalid_0's auc: 0.627503\n",
      "[117]\tvalid_0's auc: 0.627475\n",
      "[118]\tvalid_0's auc: 0.627416\n",
      "[119]\tvalid_0's auc: 0.627392\n",
      "[120]\tvalid_0's auc: 0.627442\n",
      "[121]\tvalid_0's auc: 0.627428\n",
      "[122]\tvalid_0's auc: 0.627493\n",
      "[123]\tvalid_0's auc: 0.627502\n",
      "[124]\tvalid_0's auc: 0.627636\n",
      "[125]\tvalid_0's auc: 0.627588\n",
      "[126]\tvalid_0's auc: 0.627678\n",
      "[127]\tvalid_0's auc: 0.627702\n",
      "[128]\tvalid_0's auc: 0.627874\n",
      "[129]\tvalid_0's auc: 0.627984\n",
      "[130]\tvalid_0's auc: 0.627984\n",
      "[131]\tvalid_0's auc: 0.628001\n",
      "[132]\tvalid_0's auc: 0.62814\n",
      "[133]\tvalid_0's auc: 0.628175\n",
      "[134]\tvalid_0's auc: 0.628166\n",
      "[135]\tvalid_0's auc: 0.628243\n",
      "[136]\tvalid_0's auc: 0.628269\n",
      "[137]\tvalid_0's auc: 0.628404\n",
      "[138]\tvalid_0's auc: 0.628278\n",
      "[139]\tvalid_0's auc: 0.628263\n",
      "[140]\tvalid_0's auc: 0.628318\n",
      "[141]\tvalid_0's auc: 0.628493\n",
      "[142]\tvalid_0's auc: 0.628666\n",
      "[143]\tvalid_0's auc: 0.628737\n",
      "[144]\tvalid_0's auc: 0.628909\n",
      "[145]\tvalid_0's auc: 0.628836\n",
      "[146]\tvalid_0's auc: 0.628955\n",
      "[147]\tvalid_0's auc: 0.629087\n",
      "[148]\tvalid_0's auc: 0.629234\n",
      "[149]\tvalid_0's auc: 0.629371\n",
      "[150]\tvalid_0's auc: 0.6294\n",
      "[151]\tvalid_0's auc: 0.629187\n",
      "[152]\tvalid_0's auc: 0.629222\n",
      "[153]\tvalid_0's auc: 0.629345\n",
      "[154]\tvalid_0's auc: 0.629317\n",
      "[155]\tvalid_0's auc: 0.629178\n",
      "[156]\tvalid_0's auc: 0.629193\n",
      "[157]\tvalid_0's auc: 0.629385\n",
      "[158]\tvalid_0's auc: 0.629337\n",
      "[159]\tvalid_0's auc: 0.629223\n",
      "[160]\tvalid_0's auc: 0.62924\n",
      "[161]\tvalid_0's auc: 0.629207\n",
      "[162]\tvalid_0's auc: 0.629158\n",
      "[163]\tvalid_0's auc: 0.629244\n",
      "[164]\tvalid_0's auc: 0.629179\n",
      "[165]\tvalid_0's auc: 0.62897\n",
      "[166]\tvalid_0's auc: 0.628957\n",
      "[167]\tvalid_0's auc: 0.629035\n",
      "[168]\tvalid_0's auc: 0.629017\n",
      "[169]\tvalid_0's auc: 0.629246\n",
      "[170]\tvalid_0's auc: 0.629362\n",
      "[171]\tvalid_0's auc: 0.629364\n",
      "[172]\tvalid_0's auc: 0.62932\n",
      "[173]\tvalid_0's auc: 0.629289\n",
      "[174]\tvalid_0's auc: 0.629342\n",
      "[175]\tvalid_0's auc: 0.629202\n",
      "[176]\tvalid_0's auc: 0.629311\n",
      "[177]\tvalid_0's auc: 0.629161\n",
      "[178]\tvalid_0's auc: 0.629188\n",
      "[179]\tvalid_0's auc: 0.629232\n",
      "[180]\tvalid_0's auc: 0.629187\n",
      "[181]\tvalid_0's auc: 0.629142\n",
      "[182]\tvalid_0's auc: 0.629171\n",
      "[183]\tvalid_0's auc: 0.629032\n",
      "[184]\tvalid_0's auc: 0.629122\n",
      "[185]\tvalid_0's auc: 0.628983\n",
      "[186]\tvalid_0's auc: 0.628912\n",
      "[187]\tvalid_0's auc: 0.628907\n",
      "[188]\tvalid_0's auc: 0.628792\n",
      "[189]\tvalid_0's auc: 0.628777\n",
      "[190]\tvalid_0's auc: 0.628718\n",
      "[191]\tvalid_0's auc: 0.62866\n",
      "[192]\tvalid_0's auc: 0.628654\n",
      "[193]\tvalid_0's auc: 0.628551\n",
      "[194]\tvalid_0's auc: 0.628587\n",
      "[195]\tvalid_0's auc: 0.628522\n",
      "[196]\tvalid_0's auc: 0.62867\n",
      "[197]\tvalid_0's auc: 0.628667\n",
      "[198]\tvalid_0's auc: 0.628827\n",
      "[199]\tvalid_0's auc: 0.628898\n",
      "[200]\tvalid_0's auc: 0.628833\n",
      "[201]\tvalid_0's auc: 0.628901\n",
      "[202]\tvalid_0's auc: 0.628867\n",
      "[203]\tvalid_0's auc: 0.628892\n",
      "[204]\tvalid_0's auc: 0.628909\n",
      "[205]\tvalid_0's auc: 0.62896\n",
      "[206]\tvalid_0's auc: 0.628878\n",
      "[207]\tvalid_0's auc: 0.628828\n",
      "[208]\tvalid_0's auc: 0.628775\n",
      "[209]\tvalid_0's auc: 0.628882\n",
      "[210]\tvalid_0's auc: 0.62895\n",
      "[211]\tvalid_0's auc: 0.628905\n",
      "[212]\tvalid_0's auc: 0.628772\n",
      "[213]\tvalid_0's auc: 0.628854\n",
      "[214]\tvalid_0's auc: 0.628888\n",
      "[215]\tvalid_0's auc: 0.629199\n",
      "[216]\tvalid_0's auc: 0.629203\n",
      "[217]\tvalid_0's auc: 0.629346\n",
      "[218]\tvalid_0's auc: 0.629224\n",
      "[219]\tvalid_0's auc: 0.629138\n",
      "[220]\tvalid_0's auc: 0.629141\n",
      "[221]\tvalid_0's auc: 0.629065\n",
      "[222]\tvalid_0's auc: 0.628874\n",
      "[223]\tvalid_0's auc: 0.628867\n",
      "[224]\tvalid_0's auc: 0.628861\n",
      "[225]\tvalid_0's auc: 0.628807\n",
      "[226]\tvalid_0's auc: 0.628886\n",
      "[227]\tvalid_0's auc: 0.628763\n",
      "[228]\tvalid_0's auc: 0.628697\n",
      "[229]\tvalid_0's auc: 0.628579\n",
      "[230]\tvalid_0's auc: 0.628526\n",
      "[231]\tvalid_0's auc: 0.628471\n",
      "[232]\tvalid_0's auc: 0.628448\n",
      "[233]\tvalid_0's auc: 0.628372\n",
      "[234]\tvalid_0's auc: 0.628299\n",
      "[235]\tvalid_0's auc: 0.628224\n",
      "[236]\tvalid_0's auc: 0.628176\n",
      "[237]\tvalid_0's auc: 0.628249\n",
      "[238]\tvalid_0's auc: 0.628128\n",
      "[239]\tvalid_0's auc: 0.628136\n",
      "[240]\tvalid_0's auc: 0.628102\n",
      "[241]\tvalid_0's auc: 0.627933\n",
      "[242]\tvalid_0's auc: 0.627916\n",
      "[243]\tvalid_0's auc: 0.627802\n",
      "[244]\tvalid_0's auc: 0.627741\n",
      "[245]\tvalid_0's auc: 0.627675\n",
      "[246]\tvalid_0's auc: 0.627412\n",
      "[247]\tvalid_0's auc: 0.62734\n",
      "[248]\tvalid_0's auc: 0.627278\n",
      "[249]\tvalid_0's auc: 0.627088\n",
      "[250]\tvalid_0's auc: 0.627025\n",
      "Early stopping, best iteration is:\n",
      "[150]\tvalid_0's auc: 0.6294\n"
     ]
    }
   ],
   "source": [
    "# train the model\n",
    "model = lightgbm.train(parameters,\n",
    "                       train_data,\n",
    "                       valid_sets=test_data,\n",
    "                       num_boost_round=5000,\n",
    "                       early_stopping_rounds=100)"
   ]
  },
  {
   "cell_type": "markdown",
   "metadata": {},
   "source": [
    "Делаем предсказание для тестовой выборки (файл `data/test.csv`):"
   ]
  },
  {
   "cell_type": "code",
   "execution_count": 39,
   "metadata": {},
   "outputs": [],
   "source": [
    "# load test data\n",
    "submission = pd.read_csv('data/test.csv')\n",
    "ids = submission['id'].values\n",
    "submission.drop('id', inplace=True, axis=1)\n",
    "\n",
    "# prepare features from test sample\n",
    "x = submission.values\n",
    "# prepare predicted labels for test sample\n",
    "y_pred = model.predict(x)"
   ]
  },
  {
   "cell_type": "code",
   "execution_count": 40,
   "metadata": {},
   "outputs": [
    {
     "data": {
      "text/plain": [
       "array([0.33572365, 0.3663867 , 0.45349866, ..., 0.50578861, 0.37637787,\n",
       "       0.42743183])"
      ]
     },
     "execution_count": 40,
     "metadata": {},
     "output_type": "execute_result"
    }
   ],
   "source": [
    "y_pred"
   ]
  },
  {
   "cell_type": "markdown",
   "metadata": {},
   "source": [
    "Сохраняем предсказания в файл и отправляем в <a href='https://www.kaggle.com/c/porto-seguro-safe-driver-prediction/submit'> Kaggle </a>:"
   ]
  },
  {
   "cell_type": "code",
   "execution_count": null,
   "metadata": {},
   "outputs": [],
   "source": [
    "# save predicted labels to the file\n",
    "output = pd.DataFrame({'id': ids, 'target': y_pred})\n",
    "output.to_csv(\"data/submission.csv\", index=False)"
   ]
  },
  {
   "cell_type": "markdown",
   "metadata": {},
   "source": [
    "### Полезные ссылки:"
   ]
  },
  {
   "cell_type": "markdown",
   "metadata": {},
   "source": [
    "1. <a href='https://towardsdatascience.com/catboost-vs-light-gbm-vs-xgboost-5f93620723db'> Сравнение XgBoost, LightGBM и CatBoost </a>\n",
    "2. <a href='http://xgboost.readthedocs.io'> Документация XgBoost </a>\n",
    "3. <a href='https://lightgbm.readthedocs.io/en/latest/'> Документация LightGBM </a>\n",
    "4. <a href='https://tech.yandex.com/catboost/doc/dg/concepts/about-docpage/'> Документация CatBoost </a>\n",
    "5. <a href='http://scikit-learn.org/stable/modules/generated/sklearn.ensemble.GradientBoostingClassifier.html'> Документация sklearn.ensemble.GradientBoostingClassifier </a>\n",
    "6. <a href='https://habr.com/company/ods/blog/327250/'> Статья ODS про бустинг </a>\n",
    "7. <a href='https://alexanderdyakonov.wordpress.com/2017/06/09/градиентный-бустинг/comment-page-1/'> Статья А.Дьяконова про градиентный бустинг </a>\n"
   ]
  }
 ],
 "metadata": {
  "kernelspec": {
   "display_name": "Python3 with xgboost",
   "language": "python",
   "name": "py3_with_xgboost"
  },
  "language_info": {
   "codemirror_mode": {
    "name": "ipython",
    "version": 3
   },
   "file_extension": ".py",
   "mimetype": "text/x-python",
   "name": "python",
   "nbconvert_exporter": "python",
   "pygments_lexer": "ipython3",
   "version": "3.6.2"
  }
 },
 "nbformat": 4,
 "nbformat_minor": 2
}
