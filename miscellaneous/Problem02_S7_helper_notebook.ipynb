{
 "cells": [
  {
   "cell_type": "code",
   "execution_count": null,
   "metadata": {},
   "outputs": [],
   "source": [
    "import time\n",
    "\n",
    "import json\n",
    "import numpy as np"
   ]
  },
  {
   "cell_type": "code",
   "execution_count": null,
   "metadata": {},
   "outputs": [],
   "source": [
    "LENGTH = 96\n",
    "N_CHANNELS = 6\n",
    "\n",
    "\n",
    "with open('problem02_data_train.json', 'r') as iofile:\n",
    "    train_part = json.load(iofile)\n",
    "\n",
    "with open('problem02_data_test.json', 'r') as iofile:\n",
    "    test_part = json.load(iofile)\n",
    "\n",
    "\n",
    "X_train = np.array(train_part['data']).reshape((-1, LENGTH, N_CHANNELS))\n",
    "y_train = np.array(train_part['labels'])\n",
    "\n",
    "X_test = np.array(test_part['data']).reshape((-1, LENGTH, N_CHANNELS))"
   ]
  },
  {
   "cell_type": "code",
   "execution_count": null,
   "metadata": {},
   "outputs": [],
   "source": [
    "assert X_train.shape == (3782, LENGTH, N_CHANNELS), 'Something wrong with train data'"
   ]
  },
  {
   "cell_type": "code",
   "execution_count": null,
   "metadata": {},
   "outputs": [],
   "source": [
    "assert X_test.shape == (1498, LENGTH, N_CHANNELS), 'Something wrong with test data'"
   ]
  },
  {
   "cell_type": "code",
   "execution_count": null,
   "metadata": {},
   "outputs": [],
   "source": [
    "def check_predicted_logproba_and_generate_submission(\n",
    "    logproba: np.array,\n",
    "    submission_name=None\n",
    "):\n",
    "    assert logproba.shape == (1498, 3), 'Something wrong with shape'\n",
    "    assert np.all(logproba <= 0), 'Logprobas should be less or equal than zero'\n",
    "    \n",
    "    if not submission_name:\n",
    "        submission_name = 'predicted_logprobas_{}.json'.format(time.ctime().replace(' ', '_'))\n",
    "    with open(submission_name, 'w') as iofile:\n",
    "        json.dump({'predicted_logprobas': logproba.tolist()}, iofile)\n",
    "    \n",
    "    print('Submission file with name {} generated successfully!'.format(submission_name))"
   ]
  },
  {
   "cell_type": "code",
   "execution_count": null,
   "metadata": {},
   "outputs": [],
   "source": [
    "example_submission = np.zeros((X_test.shape[0], 3)) - 0.5"
   ]
  },
  {
   "cell_type": "code",
   "execution_count": null,
   "metadata": {},
   "outputs": [],
   "source": [
    "check_predicted_logproba_and_generate_submission(example_submission)"
   ]
  }
 ],
 "metadata": {
  "kernelspec": {
   "display_name": "py3_research env",
   "language": "python",
   "name": "py3_research"
  },
  "language_info": {
   "codemirror_mode": {
    "name": "ipython",
    "version": 3
   },
   "file_extension": ".py",
   "mimetype": "text/x-python",
   "name": "python",
   "nbconvert_exporter": "python",
   "pygments_lexer": "ipython3",
   "version": "3.8.1"
  }
 },
 "nbformat": 4,
 "nbformat_minor": 4
}
